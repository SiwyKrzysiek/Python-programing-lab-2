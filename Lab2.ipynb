{
 "cells": [
  {
   "cell_type": "markdown",
   "metadata": {},
   "source": [
    "# Lab 2 - Python programming and data visualisation"
   ]
  },
  {
   "cell_type": "markdown",
   "metadata": {},
   "source": [
    "## Problem 1\n",
    "\n",
    "### Task\n",
    "\n",
    "Fill in the Line class methods to accept coordinate as a pair of tuples and return the slope and distance of the line.\n",
    "\n",
    "```Python\n",
    "class Line(object):\n",
    "    def __init__(self,coor1,coor2):\n",
    "        \"\"\"Initialize instance attributes with tuples (x1,y1)  and (x2,y2)\n",
    "        \"\"\"\n",
    "        (...)\n",
    "\n",
    "    def distance(self):\n",
    "        \"\"\"Calculate the length of the segment (line)\n",
    "        \"\"\"\n",
    "        (...)\n",
    "\n",
    "    def slope(self):\n",
    "        \"\"\" Return the slope of a line going through the ends ( the 'a' in y=ax+b)\n",
    "        \"\"\"\n",
    "        (...)\n",
    "```\n",
    "\n",
    "### Examples\n",
    "\n",
    "```Python\n",
    "coordinate1 = (3,2)\n",
    "coordinate2 = (8,10)\n",
    "\n",
    "li = Line(coordinate1,coordinate2)\n",
    "\n",
    "li.distance()\n",
    "9.433981132056603\n",
    "\n",
    "li.slope()\n",
    "1.6\n",
    "```"
   ]
  },
  {
   "cell_type": "code",
   "execution_count": 21,
   "metadata": {},
   "outputs": [
    {
     "data": {
      "text/plain": [
       "1.6"
      ]
     },
     "execution_count": 21,
     "metadata": {},
     "output_type": "execute_result"
    }
   ],
   "source": [
    "import math\n",
    "\n",
    "class Line(object):\n",
    "    def __init__(self, coor1, coor2):\n",
    "        self.p1 = coor1\n",
    "        self.p2 = coor2\n",
    "        \n",
    "    def distance(self):\n",
    "        difs = [self.p1[i] - self.p2[i] for i in range(2)]\n",
    "        \n",
    "        return math.hypot(*difs)\n",
    "    \n",
    "    def slope(self):\n",
    "        difs = [self.p1[i] - self.p2[i] for i in range(2)]\n",
    "        \n",
    "#         return math.tan(math.atan2(*reversed(difs)))\n",
    "        return difs[1] / difs[0]\n",
    "\n",
    "    \n",
    "coordinate1 = (3,2)\n",
    "coordinate2 = (8,10)\n",
    "\n",
    "li = Line(coordinate1,coordinate2)\n",
    "\n",
    "li.distance()\n",
    "\n",
    "li.slope()"
   ]
  },
  {
   "cell_type": "markdown",
   "metadata": {},
   "source": [
    "## Problem 2\n",
    "\n",
    "Fill in the class\n",
    "\n",
    "```Python\n",
    "class Cylinder(object):\n",
    "\n",
    "    def __init__(self,height=1,radius=1):\n",
    "        (...)\n",
    "\n",
    "    def volume(self):\n",
    "        (...)\n",
    "\n",
    "    def surface_area(self):\n",
    "        (...)\n",
    "```\n",
    "\n",
    "### Examples\n",
    "\n",
    "```Python\n",
    "c = Cylinder(2,3)\n",
    "\n",
    "c.volume()\n",
    "56.52\n",
    "\n",
    "c.surface_area()\n",
    "94.2\n",
    "```"
   ]
  },
  {
   "cell_type": "code",
   "execution_count": 29,
   "metadata": {},
   "outputs": [
    {
     "data": {
      "text/plain": [
       "94.24777960769379"
      ]
     },
     "execution_count": 29,
     "metadata": {},
     "output_type": "execute_result"
    }
   ],
   "source": [
    "import math\n",
    "\n",
    "class Cylinder(object):\n",
    "\n",
    "    def __init__(self,height=1,radius=1):\n",
    "        self.height = height\n",
    "        self.radius = radius\n",
    "\n",
    "    def volume(self):\n",
    "        return math.pi * self.radius ** 2 * self.height\n",
    "\n",
    "    def surface_area(self):\n",
    "        base_area = math.pi * self.radius ** 2\n",
    "        side_area = 2 * math.pi * self.radius * self.height\n",
    "        return base_area * 2 + side_area\n",
    "    \n",
    "\n",
    "c = Cylinder(2,3)\n",
    "\n",
    "c.volume()\n",
    "\n",
    "c.surface_area()"
   ]
  },
  {
   "cell_type": "markdown",
   "metadata": {},
   "source": [
    "## Problem 3\n",
    "\n",
    "Write a class that takes a filename as an argument, open it and reads its content into a 2D matrix of values (an array of arrays: `[[1,2],[3,4]]`). The class should define a special function `info()` which prints out statistical information about column values in the file. Assume that the first row in the file specifies the column names"
   ]
  },
  {
   "cell_type": "code",
   "execution_count": 162,
   "metadata": {
    "scrolled": true
   },
   "outputs": [
    {
     "name": "stdout",
     "output_type": "stream",
     "text": [
      "          Min     Max     Avg   \n",
      "Name:      -       -       -    \n",
      "Age:       4       8       6    \n",
      "Weight:    18      32      25   \n",
      "Height:    98     138    119.67 \n"
     ]
    }
   ],
   "source": [
    "import statistics\n",
    "\n",
    "class DataFile(object):\n",
    "    def __init__(self, filename='undef'):\n",
    "        with open(filename) as file:\n",
    "            self.columns = list(map(str.strip, next(file).split(';')))\n",
    "            \n",
    "            self.data = []\n",
    "            for line in file:\n",
    "                separeated = map(str.strip, line.split(';'))\n",
    "                self.data.append([int(f) if f.isdigit() else f for f in separeated])\n",
    "  \n",
    "    def info(self):\n",
    "        result = []\n",
    "        h = ['', 'Min', 'Max', 'Avg']\n",
    "        header = f'{h[0]:8}{h[1]:^8}{h[2]:^8}{h[3]:^8}'\n",
    "        result.append(header)\n",
    "        \n",
    "        for i, coulumn in enumerate(self.columns):\n",
    "            name = coulumn + ':'\n",
    "            min = self.min(i+1)\n",
    "            max = self.max(i+1)\n",
    "            avg = self.avg(i+1)\n",
    "            min, max, avg = map(lambda x: '-' if x == None else round(x, 2), (min, max, avg))\n",
    "            \n",
    "            result.append(f'{name:8}{min:^8}{max:^8}{avg:^8}')\n",
    "        \n",
    "        result = '\\n'.join(result)\n",
    "        print(result)\n",
    "    \n",
    "    def _selectedColumn(self, colnum=0, colname='') -> int:\n",
    "        if colnum == 0 and colname == '':\n",
    "            raise ValueError('colnum or colname must be provided')\n",
    "            \n",
    "        column_number = self.columns.index(colname) + 1 if colname != '' else colnum\n",
    "        if colnum == 0: colnum = column_number\n",
    "        \n",
    "        if colnum != column_number:\n",
    "            raise ValueError(f'colnum selects {colnum} while colname selects {column_number} column')\n",
    "            \n",
    "        if (column_number < 1 or column_number > len(self.columns)):\n",
    "            raise ValueError(f'Selected column number {column_number} is out of data range')\n",
    "            \n",
    "        return column_number - 1\n",
    "        \n",
    "    \n",
    "    def avg(self, colnum=0, colname=''):\n",
    "        \"\"\" The column name or colnum can be provided alternatively\n",
    "        \"\"\"\n",
    "        index = self._selectedColumn(colnum, colname)\n",
    "        values = (row[index] for row in self.data)\n",
    "        values = list(filter(lambda x: type(x)==int, values))\n",
    "        if len(values) <= 0: return None\n",
    "        return statistics.mean(values)\n",
    "        \n",
    "    def min(self, colnum=0, colname=''):\n",
    "        index = self._selectedColumn(colnum, colname)\n",
    "        values = (row[index] for row in self.data)\n",
    "        return min(filter(lambda x: type(x)==int, values), default=None)\n",
    "      \n",
    "    def max(self, colnum=0, colname=''):\n",
    "        index = self._selectedColumn(colnum, colname)\n",
    "        values = (row[index] for row in self.data)\n",
    "        return max(filter(lambda x: type(x)==int, values), default=None)\n",
    "    \n",
    "data = DataFile('data.csv')\n",
    "\n",
    "# print(data.avg(colname='Age'))\n",
    "# print(data.avg(4))\n",
    "data.info()"
   ]
  },
  {
   "cell_type": "markdown",
   "metadata": {},
   "source": [
    "## Problem 4\n",
    "\n",
    "Write a context manager and example of its usage (just print some result to terminal) which will fetch the data about teachers from **ISOD API**, and as a variable it should return an **ordred by lastname** list of teachers."
   ]
  },
  {
   "cell_type": "code",
   "execution_count": 177,
   "metadata": {},
   "outputs": [
    {
     "name": "stdout",
     "output_type": "stream",
     "text": [
      "{'id': 2794, 'firstname': 'Bartosz', 'lastname': 'Chaber', 'email': 'bartosz.chaber@ee.pw.edu.pl', 'title': 'dr inż.', 'room': 'GE 223', 'www': 'www.goope.pw.edu.pl/bach', 'phone': '22 234 53 87', 'position': 'adiunkt', 'bio_pl': 'Komputerowe symulacje plazmy oraz pola elektromagnetycznego. Rozwijanie oprogramowania numerycznego oraz pomiary w zakresie kompatybilności elektromagnetycznej.', 'bio_en': 'Multilinguistic programming (Python, C, C++, Java, Ruby, Haskell), data visualization (OpenGL) and antennas analysis.', 'photourl': 'https://isod.ee.pw.edu.pl/isod-portal/photo/key/i2rkKMWoOWPeDOSjjlGjZQ.dat', 'orgunit': 'IETiSIP', 'orgunitfull': 'Instytut Elektrotechniki Teoretycznej i Systemów Informacyjno-Pomiarowych', 'facultyorgunit': 'EE', 'facultyorgunitfull': 'Wydział Elektryczny', 'universityorgunit': 'PW', 'universityorgunitfull': 'Politechnika Warszawska'}\n",
      "{'id': 2474, 'firstname': 'Zygmunt', 'lastname': 'Filipowicz', 'email': 'zygmunt.filipowicz@ee.pw.edu.pl', 'title': 'doc. dr inż.', 'room': 'GE 222', 'www': '', 'phone': '22 234 56 43', 'position': 'Emeryt PW (Współpracujący)', 'bio_pl': '', 'bio_en': '', 'photourl': 'https://isod.ee.pw.edu.pl/isod-portal/photo/key/TEY9i6i2TB4vP7Ee5NPKRg.dat', 'orgunit': 'IETiSIP', 'orgunitfull': 'Instytut Elektrotechniki Teoretycznej i Systemów Informacyjno-Pomiarowych', 'facultyorgunit': 'EE', 'facultyorgunitfull': 'Wydział Elektryczny', 'universityorgunit': 'PW', 'universityorgunitfull': 'Politechnika Warszawska'}\n"
     ]
    }
   ],
   "source": [
    "import requests\n",
    "import json\n",
    "from contextlib import contextmanager\n",
    "\n",
    "class ZETiSContext(object):\n",
    "    def __enter__(self):\n",
    "        s = requests.get(\"https://isod.ee.pw.edu.pl/isod-portal/wapi?q=list_teachers&sem2019Z&urlinfo=null&format=JSON&orgunit=ZETiIS\")\n",
    "        teachers = json.loads(s.text)['teachers']\n",
    "        return sorted(teachers, key=lambda t: t['lastname'])\n",
    "\n",
    "    def __exit__(self, type, value, traceback):\n",
    "        return False\n",
    "\n",
    "@contextmanager\n",
    "def ZETiSContextDecorated():\n",
    "    s = requests.get(\"https://isod.ee.pw.edu.pl/isod-portal/wapi?q=list_teachers&sem2019Z&urlinfo=null&format=JSON&orgunit=ZETiIS\")\n",
    "    teachers = json.loads(s.text)['teachers']\n",
    "    yield sorted(teachers, key=lambda t: t['lastname'])\n",
    "\n",
    "with ZETiSContext() as zetis:\n",
    "    print(zetis[3])\n",
    "    \n",
    "with ZETiSContextDecorated() as zetis:\n",
    "    print(zetis[5])\n"
   ]
  }
 ],
 "metadata": {
  "kernelspec": {
   "display_name": "Python 3",
   "language": "python",
   "name": "python3"
  },
  "language_info": {
   "codemirror_mode": {
    "name": "ipython",
    "version": 3
   },
   "file_extension": ".py",
   "mimetype": "text/x-python",
   "name": "python",
   "nbconvert_exporter": "python",
   "pygments_lexer": "ipython3",
   "version": "3.7.3"
  }
 },
 "nbformat": 4,
 "nbformat_minor": 2
}
